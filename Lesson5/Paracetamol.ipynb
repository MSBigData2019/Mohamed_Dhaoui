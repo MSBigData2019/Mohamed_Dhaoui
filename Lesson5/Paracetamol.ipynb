{
 "cells": [
  {
   "cell_type": "code",
   "execution_count": 1,
   "metadata": {},
   "outputs": [],
   "source": [
    "import pandas as pd\n",
    "import numpy as np\n",
    "import requests\n",
    "from bs4 import BeautifulSoup\n",
    "from threading import Thread, RLock\n",
    "import sys\n",
    "import time\n",
    "import os\n",
    "import random\n",
    "import matplotlib.pyplot as plt\n",
    "import re"
   ]
  },
  {
   "cell_type": "code",
   "execution_count": 4,
   "metadata": {},
   "outputs": [],
   "source": [
    "#Obtention du json pour le paracetamol\n",
    "url = \"https://www.open-medicaments.fr/api/v1/medicaments?limit=100&query=paracetamol\"\n",
    "json = requests.get(url).json()"
   ]
  },
  {
   "cell_type": "code",
   "execution_count": 38,
   "metadata": {},
   "outputs": [],
   "source": [
    "#Compréhension de liste pour obtenir directement les fiches medicaments\n",
    "ICS = [f\"https://www.open-medicaments.fr/api/v1/medicaments/{elm['codeCIS']}\" for elm in json]\n",
    "\n",
    "#On récupère les json de toutes nos pages medicaments\n",
    "s=[requests.get(url).json() for url in ICS]"
   ]
  },
  {
   "cell_type": "code",
   "execution_count": 33,
   "metadata": {},
   "outputs": [
    {
     "data": {
      "text/html": [
       "<div>\n",
       "<style scoped>\n",
       "    .dataframe tbody tr th:only-of-type {\n",
       "        vertical-align: middle;\n",
       "    }\n",
       "\n",
       "    .dataframe tbody tr th {\n",
       "        vertical-align: top;\n",
       "    }\n",
       "\n",
       "    .dataframe thead th {\n",
       "        text-align: right;\n",
       "    }\n",
       "</style>\n",
       "<table border=\"1\" class=\"dataframe\">\n",
       "  <thead>\n",
       "    <tr style=\"text-align: right;\">\n",
       "      <th></th>\n",
       "      <th>gelules</th>\n",
       "    </tr>\n",
       "  </thead>\n",
       "  <tbody>\n",
       "    <tr>\n",
       "      <th>0</th>\n",
       "      <td>16</td>\n",
       "    </tr>\n",
       "    <tr>\n",
       "      <th>1</th>\n",
       "      <td>8</td>\n",
       "    </tr>\n",
       "    <tr>\n",
       "      <th>2</th>\n",
       "      <td>8</td>\n",
       "    </tr>\n",
       "    <tr>\n",
       "      <th>3</th>\n",
       "      <td>16</td>\n",
       "    </tr>\n",
       "    <tr>\n",
       "      <th>4</th>\n",
       "      <td>16</td>\n",
       "    </tr>\n",
       "  </tbody>\n",
       "</table>\n",
       "</div>"
      ],
      "text/plain": [
       "  gelules\n",
       "0      16\n",
       "1       8\n",
       "2       8\n",
       "3      16\n",
       "4      16"
      ]
     },
     "execution_count": 33,
     "metadata": {},
     "output_type": "execute_result"
    }
   ],
   "source": [
    "#Pour chaque json, on récupère le nombre de gélulle, disponible dans le libellé\n",
    "reg1 = r'(\\d+)'\n",
    "libelles = [medoc[\"presentations\"][0][\"libelle\"] for medoc in s]\n",
    "\n",
    "#On applique notre regex pour trouver uniquement les valeurs numériques\n",
    "gelules = pd.DataFrame({\"gelules\":[re.findall(reg1,lib)[-1] for lib in libelles]})\n",
    "gelules.head()"
   ]
  },
  {
   "cell_type": "code",
   "execution_count": 34,
   "metadata": {},
   "outputs": [
    {
     "data": {
      "text/plain": [
       "['gélule']"
      ]
     },
     "execution_count": 34,
     "metadata": {},
     "output_type": "execute_result"
    }
   ],
   "source": [
    "#Exemple d'utilisation de la fonction findall de regex, ici on trouve tout ce qu'il y a après la virgule\n",
    "string = 'PARACETAMOL ZYDUS 500 mg, gélule'\n",
    "reg = r', (.*)'\n",
    "re.findall(reg,string)"
   ]
  },
  {
   "cell_type": "code",
   "execution_count": 52,
   "metadata": {},
   "outputs": [
    {
     "data": {
      "text/html": [
       "<div>\n",
       "<style scoped>\n",
       "    .dataframe tbody tr th:only-of-type {\n",
       "        vertical-align: middle;\n",
       "    }\n",
       "\n",
       "    .dataframe tbody tr th {\n",
       "        vertical-align: top;\n",
       "    }\n",
       "\n",
       "    .dataframe thead th {\n",
       "        text-align: right;\n",
       "    }\n",
       "</style>\n",
       "<table border=\"1\" class=\"dataframe\">\n",
       "  <thead>\n",
       "    <tr style=\"text-align: right;\">\n",
       "      <th></th>\n",
       "      <th>0</th>\n",
       "      <th>1</th>\n",
       "      <th>2</th>\n",
       "      <th>3</th>\n",
       "      <th>mul</th>\n",
       "      <th>dosage</th>\n",
       "      <th>nb_gelules</th>\n",
       "    </tr>\n",
       "  </thead>\n",
       "  <tbody>\n",
       "    <tr>\n",
       "      <th>0</th>\n",
       "      <td>PARACETAMOL ZYDUS</td>\n",
       "      <td>500</td>\n",
       "      <td>mg</td>\n",
       "      <td>gélule</td>\n",
       "      <td>1</td>\n",
       "      <td>500</td>\n",
       "      <td>16</td>\n",
       "    </tr>\n",
       "    <tr>\n",
       "      <th>1</th>\n",
       "      <td>PARACETAMOL RATIOPHARM</td>\n",
       "      <td>1000</td>\n",
       "      <td>mg</td>\n",
       "      <td>comprimé</td>\n",
       "      <td>1</td>\n",
       "      <td>1000</td>\n",
       "      <td>8</td>\n",
       "    </tr>\n",
       "    <tr>\n",
       "      <th>2</th>\n",
       "      <td>PARACETAMOL EG</td>\n",
       "      <td>1</td>\n",
       "      <td>g</td>\n",
       "      <td>comprimé</td>\n",
       "      <td>1000</td>\n",
       "      <td>1000</td>\n",
       "      <td>8</td>\n",
       "    </tr>\n",
       "    <tr>\n",
       "      <th>3</th>\n",
       "      <td>PARACETAMOL SANDOZ</td>\n",
       "      <td>500</td>\n",
       "      <td>mg</td>\n",
       "      <td>gélule</td>\n",
       "      <td>1</td>\n",
       "      <td>500</td>\n",
       "      <td>16</td>\n",
       "    </tr>\n",
       "    <tr>\n",
       "      <th>4</th>\n",
       "      <td>PARACETAMOL RATIOPHARM</td>\n",
       "      <td>500</td>\n",
       "      <td>mg</td>\n",
       "      <td>gélule</td>\n",
       "      <td>1</td>\n",
       "      <td>500</td>\n",
       "      <td>16</td>\n",
       "    </tr>\n",
       "  </tbody>\n",
       "</table>\n",
       "</div>"
      ],
      "text/plain": [
       "                         0     1    2          3   mul  dosage nb_gelules\n",
       "0       PARACETAMOL ZYDUS    500   mg     gélule     1     500         16\n",
       "1  PARACETAMOL RATIOPHARM   1000   mg   comprimé     1    1000          8\n",
       "2          PARACETAMOL EG      1    g   comprimé  1000    1000          8\n",
       "3      PARACETAMOL SANDOZ    500   mg     gélule     1     500         16\n",
       "4  PARACETAMOL RATIOPHARM    500   mg     gélule     1     500         16"
      ]
     },
     "execution_count": 52,
     "metadata": {},
     "output_type": "execute_result"
    }
   ],
   "source": [
    "#On applique les regex sur un dataframe complet à l'aide de la fonction string\n",
    "\n",
    "#On creer une df à partir du json de la première recherche\n",
    "df=pd.DataFrame(json)\n",
    "\n",
    "#On creer la regex\n",
    "reg=r'([\\D]*)(\\d+)(.*),(.*)'\n",
    "\n",
    "#on isole une série à partir de la colonne denomination du df\n",
    "serie = df[\"denomination\"]\n",
    "\n",
    "#On applique la methode str.extract sur notre serie ce qui créer un nouveau df\n",
    "ds=serie.str.extract(reg)\n",
    "\n",
    "#On créer une nouvelle colonne qui vaut 1000 par défaut\n",
    "ds[\"mul\"]=1000\n",
    "\n",
    "#On applique un masque conditionnel à l'aide de la fonction where, \n",
    "#ainsi seuls les lignes dont la colone ds[2] vaut \"g\" sont modifiés\n",
    "\n",
    "ds[\"mul\"]=ds[\"mul\"].where(ds[2].str.strip()==\"g\",1)\n",
    "\n",
    "#On créer une nouvelle colonne dosage après avoir convertit ds(1) en int et enlevé les valeurs \"NaN\"\n",
    "ds[\"dosage\"]=ds[1].fillna(0).astype(int)*ds[\"mul\"]\n",
    "\n",
    "#On ajoute le nombre de gelules calculés précédemment\n",
    "ds[\"nb_gelules\"]=gelules\n",
    "ds.head()"
   ]
  },
  {
   "cell_type": "code",
   "execution_count": null,
   "metadata": {},
   "outputs": [],
   "source": []
  }
 ],
 "metadata": {
  "kernelspec": {
   "display_name": "Python 3",
   "language": "python",
   "name": "python3"
  },
  "language_info": {
   "codemirror_mode": {
    "name": "ipython",
    "version": 3
   },
   "file_extension": ".py",
   "mimetype": "text/x-python",
   "name": "python",
   "nbconvert_exporter": "python",
   "pygments_lexer": "ipython3",
   "version": "3.7.0"
  }
 },
 "nbformat": 4,
 "nbformat_minor": 2
}
